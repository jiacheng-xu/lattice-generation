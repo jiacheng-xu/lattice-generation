{
 "cells": [
  {
   "cell_type": "code",
   "execution_count": null,
   "metadata": {},
   "outputs": [],
   "source": [
    "import datasets\n",
    "\n",
    "\n",
    "import tensorflow_datasets as tfds\n",
    "config = tfds.translate.wmt.WmtConfig(\n",
    "    version=\"0.0.1\",\n",
    "    language_pair=(\"fr\", \"de\"),\n",
    "    subsets={\n",
    "        tfds.Split.TRAIN: [\"commoncrawl_frde\"],\n",
    "        tfds.Split.VALIDATION: [\"euelections_dev2019\"],\n",
    "    },\n",
    ")\n",
    "builder = tfds.builder(\"wmt_translate\", config=config)"
   ]
  },
  {
   "cell_type": "code",
   "execution_count": 1,
   "metadata": {},
   "outputs": [
    {
     "name": "stderr",
     "output_type": "stream",
     "text": [
      "Using custom data configuration test\n",
      "Reusing dataset xsum (/home/jcxu/.cache/huggingface/datasets/xsum/test/1.2.0/4957825a982999fbf80bca0b342793b01b2611e021ef589fb7c6250b3577b499)\n"
     ]
    },
    {
     "data": {
      "application/vnd.jupyter.widget-view+json": {
       "model_id": "41bf378901ed44d49536e681c8e51cdc",
       "version_major": 2,
       "version_minor": 0
      },
      "text/plain": [
       "  0%|          | 0/3 [00:00<?, ?it/s]"
      ]
     },
     "metadata": {},
     "output_type": "display_data"
    }
   ],
   "source": [
    "from datasets import load_dataset\n",
    "\n",
    "dataset = load_dataset('xsum', 'test')"
   ]
  },
  {
   "cell_type": "code",
   "execution_count": 2,
   "metadata": {},
   "outputs": [
    {
     "name": "stdout",
     "output_type": "stream",
     "text": [
      "US technology firm Apple has offered to refund Australian customers who felt misled about the 4G capabilities of the new iPad.\n"
     ]
    }
   ],
   "source": [
    "d = dataset['validation']\n",
    "cnt = 500\n",
    "for ex in d:\n",
    "    print(ex['summary'])\n",
    "    break"
   ]
  },
  {
   "cell_type": "code",
   "execution_count": 3,
   "metadata": {},
   "outputs": [
    {
     "name": "stdout",
     "output_type": "stream",
     "text": [
      "{'document': 'Fast forward about 20 years, and it\\'s fair to say he has done just that.\\nThe business he runs, Frasers Hospitality, is one of the world\\'s biggest providers of high-end serviced apartments. Its 148 properties span about 80 capital cities, as well as financial hubs across Europe, Asia, the Middle East and Africa.\\nBut it almost didn\\'t get off the ground.\\nWhen Mr Choe was appointed to launch and lead the company, Asia was booming; the tiger economies of Hong Kong, South Korea, Taiwan and Singapore were expanding rapidly.\\nBut as Frasers prepared to open its first two properties in Singapore, the Asian financial crisis hit.\\nIt was 1997. Currencies went into freefall. Suddenly, people were losing their jobs and stopped travelling.\\nMr Choe recalls asking staff if they really wanted to continue working with the firm, because when the properties opened they might not get paid.\\n\"It was really that serious,\" he says. \"I remember tearing up because they said \\'let\\'s open it, let\\'s open it whether you can pay us or not\\'.\"\\nSurvival, Mr Choe admits, came through a bit of luck, and the misfortune of others.\\nHe had convinced the board at parent firm, property group Frasers Centrepoint, to open serviced apartments rather than hotels - partly because getting planning permission in Singapore was easier.\\nBut he also sensed it was a big, untapped market. And at the time of the crisis, it proved to be exactly what customers wanted.\\n\"As we were going through this difficult patch, there were protests and riots in Jakarta,\" he says. \"A lot of companies like Microsoft called up looking for rooms for their staff because they were moving out of Jakarta.\"\\nFrasers\\' 412 apartments were quickly in demand. Occupancy soon hit 70%, and then 90%.\\nExplaining the popularity of serviced apartments, Mr Choe says that if people are staying somewhere for just a few days, they happily stay in hotels, but if they are going to be somewhere for one month to eight months, the walls of hotel rooms \"close in on you\".\\nBut now, Mr Choe, 57, faces new challenges - the travel tastes of millennials and the disruptive nature of Airbnb.\\n\"The way to tackle Airbnb is not to ignore it. I will never underestimate Airbnb,\" he says.\\nThere\\'s been no significant impact on Frasers yet. Big corporations still prefer to put employees in big service apartments, he says, because they can guarantee a level of safety and security. But that is likely to change, Mr Choe admits.\\n\"I have two daughters who to my chagrin use Airbnb,\" he says. \"We took a family trip to Florence and I stayed in this wonderful boutique hotel, but paid a bundle for it.\\n\"When my daughter joined us, she said, \\'I\\'m just staying next door and paying about 80 euros\\'. We paid about 330 euros.\\n\"I asked why they stayed at Airbnb. They say \\'it\\'s like a surprise, it\\'s part of the adventure\\'.\"\\nAnd so now, Mr Choe wants to bring some of that vibrancy to Frasers.\\nWhile neutral colours, beige curtains and dark wooden chairs dominate its more traditional apartments, many customers want something different, and this is shaping Fraser\\'s strategy.\\nIn 2015 it bought Malmaison Hotel du Vin, a UK hotel group that specialises in developing heritage properties into upscale boutique hotels.\\nThat has taken them beyond financial centres, including to Shakespeare\\'s hometown of Stratford-upon-Avon. Or, an intrepid traveller with $500 (Â£325) to spend could have a night in a converted medieval prison in Oxford.\\nAnd Frasers has launched the Capri sub-brand - whose website promises \"inspiring art and inspirational tech\".\\nOn a day-to-day basis Mr Choe says he still draws on his experience as a young man, who - having been given a scholarship by the Shangri-La hotel group to study at Cornell University in the US - came back to Asia to learn about the hospitality industry.\\n\"They put me in every department conceivable. I remember one of the toughest jobs I had was in the butchery. I had to carve an entire cow. For one month, I could not eat meat.\\n\"I\\'m thankful for those experiences. When you step into a hotel, you immediately pick up what works and what doesn\\'t work.\\n\"When I see the check-in staff walking more than three steps, I know the counter is set up wrong.\\n\"It\\'s like a cockpit. Can you imagine if the pilot had to turn around when he flies?\"\\nMore The Boss features, which every week profile a different business leader from around the world:\\nThe \\'diva of divorce\\' for the world\\'s super rich\\nThe snacks boss with an appetite for success\\nTaking his own path: The world\\'s leading maze designer\\nMr Choe adds that loyalty is very important to him, and he remains tremendously grateful to staff who have stayed with him.\\n\"I will always respect and remember those who gave up their jobs to join me,\" he says.\\nThis loyalty is something that Mr Choe has earned, according to Donald MacLaurin, associate professor at Singapore Institute of Technology, and specialist in the hospitality sector.\\nMr MacLaurin points out that Mr Choe introduced a five-day working week, in a part of the world where six days is common, thereby showing \"a focus on quality of life issues for employees\".\\nThe associate professor adds says the early success of the business was remarkable given the timing of its launch.\\nFast forward to today and the company is now on track to operate 30,000 serviced apartments globally by 2019. That success, say Mr Choe\\'s admirers, should make him something of a visionary.\\nFollow The Boss series editor Will Smale on Twitter.', 'summary': 'On the first day in his new job, Choe Peng Sum was given a fairly simple brief: \"Just go make us a lot of money.\"', 'id': '40453444'}\n"
     ]
    }
   ],
   "source": [
    "test_set = dataset['test']\n",
    "print(test_set[0])"
   ]
  },
  {
   "cell_type": "code",
   "execution_count": null,
   "metadata": {},
   "outputs": [],
   "source": [
    "# T5 translation\n",
    "from transformers import AutoTokenizer, AutoModelWithLMHead\n",
    "  \n",
    "tokenizer = AutoTokenizer.from_pretrained(\"t5-base\")\n",
    "\n",
    "model = AutoModelWithLMHead.from_pretrained(\"t5-base\")"
   ]
  },
  {
   "cell_type": "code",
   "execution_count": 4,
   "metadata": {},
   "outputs": [
    {
     "name": "stdout",
     "output_type": "stream",
     "text": [
      "tensor([[     2, 250012,      6,   3024,   8327,    154,   6342,  90454,    342,\n",
      "             37,  12819,  98769,   2880, 171364,  10883,  22547,  40338,  56283,\n",
      "          67535,  12219,      2]])\n"
     ]
    },
    {
     "data": {
      "text/plain": [
       "['国連の首脳は、シリアには軍事的な解決策はないと言っています']"
      ]
     },
     "execution_count": 4,
     "metadata": {},
     "output_type": "execute_result"
    }
   ],
   "source": [
    "# facebook mbart\n",
    "from transformers import MBartForConditionalGeneration, MBart50TokenizerFast\n",
    "article_en = \"The head of the United Nations says there is no military solution in Syria\"\n",
    "model = MBartForConditionalGeneration.from_pretrained(\"facebook/mbart-large-50-one-to-many-mmt\")\n",
    "tokenizer = MBart50TokenizerFast.from_pretrained(\"facebook/mbart-large-50-one-to-many-mmt\", src_lang=\"en_XX\")\n",
    "\n",
    "model_inputs = tokenizer(article_en, return_tensors=\"pt\")\n",
    "\n",
    "# translate from English to Chinese\n",
    "generated_tokens = model.generate(\n",
    "    **model_inputs,\n",
    "    forced_bos_token_id=tokenizer.lang_code_to_id[\"ja_XX\"]\n",
    ")\n",
    "print(generated_tokens)\n",
    "tokenizer.batch_decode(generated_tokens, skip_special_tokens=True)\n",
    "# => '联合国首脑说,叙利亚没有军事解决办法'"
   ]
  },
  {
   "cell_type": "code",
   "execution_count": 5,
   "metadata": {},
   "outputs": [
    {
     "name": "stdout",
     "output_type": "stream",
     "text": [
      "['La Géorgie fait du charisme, et la Russie fait partie dans la', 'Un nouveau parti turc est arrivé à Strasbourg, avec le soutien de l’équipe d’experts des Nations Unies.', 'La Libye et la Somalie se sont rapproches dans le cadre du conflit arabe, notamment en Afrique', \"Il n'y avait pas de solution militaire en Syrie :\", \"Le chef des Nations Unies dit qu'il n'existe pas de solution militaire en Syrie\"]\n"
     ]
    }
   ],
   "source": [
    "generated_tokens = model.generate(\n",
    "    **model_inputs,\n",
    "    forced_bos_token_id=tokenizer.lang_code_to_id[\"fr_XX\"],num_return_sequences=5,num_beams=1,top_p=0.99, do_sample=True\n",
    ")\n",
    "# print(generated_tokens)\n",
    "print(tokenizer.batch_decode(generated_tokens, skip_special_tokens=True))"
   ]
  },
  {
   "cell_type": "code",
   "execution_count": null,
   "metadata": {},
   "outputs": [],
   "source": [
    "generated_tokens = model.generate(\n",
    "    **model_inputs,\n",
    "    forced_bos_token_id=tokenizer.lang_code_to_id[\"zh_CN\"],num_return_sequences=5,num_beams=1,top_p=0.5, do_sample=True\n",
    ")\n",
    "# print(generated_tokens)\n",
    "print(tokenizer.batch_decode(generated_tokens, skip_special_tokens=True))"
   ]
  },
  {
   "cell_type": "code",
   "execution_count": null,
   "metadata": {},
   "outputs": [],
   "source": [
    "from transformers import MBartForConditionalGeneration, MBart50TokenizerFast\n",
    "\n",
    "article_hi = \"संयुक्त राष्ट्र के प्रमुख का कहना है कि सीरिया में कोई सैन्य समाधान नहीं है\"\n",
    "article_ar = \"الأمين العام للأمم المتحدة يقول إنه لا يوجد حل عسكري في سوريا.\"\n",
    "article_zh = \"全球主要经济体的领导人同意采取“有意义和有效的行动”，努力控制全球变暖。但是，在罗马举行的G20峰会上达成的协议几乎没有做出具体承诺，这让活动人士感到失望。主办国意大利曾希望在格拉斯哥召开的COP26峰会之前设定明确目标，而这次峰会现在已经开始了。\"\n",
    "\n",
    "# model = MBartForConditionalGeneration.from_pretrained(\"facebook/mbart-large-50-many-to-one-mmt\")\n",
    "tokenizer = MBart50TokenizerFast.from_pretrained(\"facebook/mbart-large-50-many-to-one-mmt\")\n"
   ]
  },
  {
   "cell_type": "code",
   "execution_count": null,
   "metadata": {},
   "outputs": [],
   "source": [
    "x = 10740\n",
    "print(tokenizer.decode([x]))\n",
    "print(tokenizer.convert_ids_to_tokens(x))\n",
    "print(tokenizer.eos_token_id)"
   ]
  },
  {
   "cell_type": "code",
   "execution_count": null,
   "metadata": {},
   "outputs": [],
   "source": [
    "print(tokenizer.special_tokens_map)\n",
    "print(tokenizer.lang_code_to_id)\n",
    "print(tokenizer.special_tokens_map['additional_special_tokens'])\n",
    "# translate Hindi to English\n",
    "tokenizer.src_lang = \"hi_IN\"\n",
    "encoded_hi = tokenizer(article_hi, return_tensors=\"pt\")\n",
    "generated_tokens = model.generate(**encoded_hi)\n",
    "tokenizer.batch_decode(generated_tokens, skip_special_tokens=True)\n",
    "# => \"The head of the UN says there is no military solution in Syria.\"\n",
    "print(generated_tokens)\n",
    "# print(tokenizer.lang_code_to_id(\"hi_IN\"))\n",
    "# translate Arabic to English\n",
    "tokenizer.src_lang = \"ar_AR\"\n",
    "encoded_ar = tokenizer(article_ar, return_tensors=\"pt\")\n",
    "generated_tokens = model.generate(**encoded_ar)\n",
    "tokenizer.batch_decode(generated_tokens, skip_special_tokens=True)\n",
    "# => \"The Secretary-General of the United Nations says there is no military solution in Syria.\"\n",
    "print(generated_tokens)\n",
    "\n",
    "\n",
    "# translate Arabic to English\n",
    "tokenizer.src_lang = \"zh_CN\"\n",
    "encoded_ar = tokenizer(article_zh, return_tensors=\"pt\")\n",
    "generated_tokens = model.generate(**encoded_ar)\n",
    "tokenizer.batch_decode(generated_tokens, skip_special_tokens=True)\n",
    "print(generated_tokens)\n",
    "\n",
    "# => \"The Secretary-General of the United Nations says there is no military solution in Syria.\"\n",
    "\n"
   ]
  },
  {
   "cell_type": "code",
   "execution_count": null,
   "metadata": {},
   "outputs": [],
   "source": [
    "print(tokenizer.decode(2))"
   ]
  },
  {
   "cell_type": "code",
   "execution_count": null,
   "metadata": {},
   "outputs": [],
   "source": [
    "\n",
    "# translate Hindi to English\n",
    "article_hi = \"संयुक्त राष्ट्र के प्रमुख का कहना है कि सीरिया में कोई सैन्य समाधान नहीं है\"\n",
    "article_zh=\"为什么是这？谁知道\"\n",
    "# translate Arabic to English\n",
    "tokenizer.src_lang = \"zh_CN\"\n",
    "encoded_ar = tokenizer(article_zh, return_tensors=\"pt\")\n",
    "generated_tokens = model.generate(**encoded_ar)\n",
    "tokenizer.batch_decode(generated_tokens, skip_special_tokens=True)\n",
    "print(generated_tokens)\n",
    "\n",
    "print(tokenizer.decode([2,250010,44269],skip_special_tokens=False)) \n",
    "print(tokenizer.decode([2, 250025,6],skip_special_tokens=False))"
   ]
  },
  {
   "cell_type": "code",
   "execution_count": null,
   "metadata": {},
   "outputs": [],
   "source": [
    "from datasets import load_metric\n",
    "from sacrebleu.metrics import BLEU, CHRF, TER"
   ]
  },
  {
   "cell_type": "code",
   "execution_count": null,
   "metadata": {},
   "outputs": [],
   "source": [
    "bleu = BLEU()\n",
    "sys = ['今天 是 个 好 日子']\n",
    "refs=[['今天 天气 好', '今天 很 不错']]\n",
    "print(bleu.corpus_score(sys, refs))\n",
    "bleu.get_signature()\n",
    "chrf = CHRF()\n",
    "\n",
    "chrf.corpus_score(sys, refs)"
   ]
  },
  {
   "cell_type": "code",
   "execution_count": null,
   "metadata": {},
   "outputs": [],
   "source": [
    "with open('/home/jcxu/.sacrebleu/wmt17/en-zh.zh', 'r') as fd:\n",
    "    lines = fd.read().splitlines()\n",
    "print(lines[:5])\n",
    "\n",
    "# with open('/home/jcxu/.sacrebleu/wmt17/en-zh.en', 'r') as fd:\n",
    "#     lines = fd.read().splitlines()\n",
    "# print(lines[:5])\n",
    "\n",
    "import sacrebleu\n",
    "from sacremoses import MosesDetokenizer\n",
    "md = MosesDetokenizer(lang='zh')\n",
    "md.detokenize(lines[0])"
   ]
  },
  {
   "cell_type": "code",
   "execution_count": null,
   "metadata": {},
   "outputs": [],
   "source": []
  }
 ],
 "metadata": {
  "interpreter": {
   "hash": "420e4790e749986170d2d316725b5756d5f331ffd4b0489d14c96729efd01778"
  },
  "kernelspec": {
   "display_name": "Python 3.8.3 64-bit ('base': conda)",
   "name": "python3"
  },
  "language_info": {
   "codemirror_mode": {
    "name": "ipython",
    "version": 3
   },
   "file_extension": ".py",
   "mimetype": "text/x-python",
   "name": "python",
   "nbconvert_exporter": "python",
   "pygments_lexer": "ipython3",
   "version": "3.8.3"
  },
  "orig_nbformat": 4
 },
 "nbformat": 4,
 "nbformat_minor": 2
}
